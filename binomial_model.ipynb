{
 "cells": [
  {
   "cell_type": "code",
   "execution_count": 28,
   "outputs": [],
   "source": [
    "import pandas as pd\n",
    "import numpy as np\n",
    "import matplotlib.pyplot as plt\n",
    "import datetime"
   ],
   "metadata": {
    "collapsed": false
   }
  },
  {
   "cell_type": "code",
   "execution_count": 34,
   "id": "6037299a",
   "metadata": {},
   "outputs": [],
   "source": [
    "#load datasets\n",
    "am_df = pd.read_csv(\"data/american_stock.csv\")\n",
    "eu_df = pd.read_csv(\"data/european_index.csv\")\n",
    "rf_df = pd.read_csv(\"data/FEDFUNDS.csv\")\n",
    "stock_price_df = pd.read_csv(\"data/stock_prices.csv\")"
   ]
  },
  {
   "cell_type": "code",
   "execution_count": 59,
   "outputs": [
    {
     "data": {
      "text/plain": "        DATE  FEDFUNDS\n0 2013-02-01      0.15\n1 2013-03-01      0.14\n2 2013-04-01      0.15\n3 2013-05-01      0.11\n4 2013-06-01      0.09",
      "text/html": "<div>\n<style scoped>\n    .dataframe tbody tr th:only-of-type {\n        vertical-align: middle;\n    }\n\n    .dataframe tbody tr th {\n        vertical-align: top;\n    }\n\n    .dataframe thead th {\n        text-align: right;\n    }\n</style>\n<table border=\"1\" class=\"dataframe\">\n  <thead>\n    <tr style=\"text-align: right;\">\n      <th></th>\n      <th>DATE</th>\n      <th>FEDFUNDS</th>\n    </tr>\n  </thead>\n  <tbody>\n    <tr>\n      <th>0</th>\n      <td>2013-02-01</td>\n      <td>0.15</td>\n    </tr>\n    <tr>\n      <th>1</th>\n      <td>2013-03-01</td>\n      <td>0.14</td>\n    </tr>\n    <tr>\n      <th>2</th>\n      <td>2013-04-01</td>\n      <td>0.15</td>\n    </tr>\n    <tr>\n      <th>3</th>\n      <td>2013-05-01</td>\n      <td>0.11</td>\n    </tr>\n    <tr>\n      <th>4</th>\n      <td>2013-06-01</td>\n      <td>0.09</td>\n    </tr>\n  </tbody>\n</table>\n</div>"
     },
     "execution_count": 59,
     "metadata": {},
     "output_type": "execute_result"
    }
   ],
   "source": [
    "rf_df[\"DATE\"] = pd.to_datetime(rf_df[\"DATE\"], format=\"%Y-%m-%d\")\n",
    "rf_df.head()"
   ],
   "metadata": {
    "collapsed": false
   }
  },
  {
   "cell_type": "code",
   "execution_count": 60,
   "outputs": [
    {
     "data": {
      "text/plain": "        date              symbol     exdate cp_flag  strike_price  best_bid  \\\n0 2015-01-02  AAPL 150102C100000 2015-01-02       C        100000      9.20   \n1 2015-01-02  AAPL 150102C101000 2015-01-02       C        101000      8.20   \n2 2015-01-02  AAPL 150102C102000 2015-01-02       C        102000      7.25   \n3 2015-01-02  AAPL 150102C103000 2015-01-02       C        103000      6.20   \n4 2015-01-02  AAPL 150102C104000 2015-01-02       C        104000      5.25   \n\n   best_offer exercise_style    tte rf_join_date       DATE  FEDFUNDS  \n0        9.35              A 0 days   2015-01-01 2015-01-01      0.11  \n1        8.40              A 0 days   2015-01-01 2015-01-01      0.11  \n2        7.35              A 0 days   2015-01-01 2015-01-01      0.11  \n3        6.40              A 0 days   2015-01-01 2015-01-01      0.11  \n4        5.35              A 0 days   2015-01-01 2015-01-01      0.11  ",
      "text/html": "<div>\n<style scoped>\n    .dataframe tbody tr th:only-of-type {\n        vertical-align: middle;\n    }\n\n    .dataframe tbody tr th {\n        vertical-align: top;\n    }\n\n    .dataframe thead th {\n        text-align: right;\n    }\n</style>\n<table border=\"1\" class=\"dataframe\">\n  <thead>\n    <tr style=\"text-align: right;\">\n      <th></th>\n      <th>date</th>\n      <th>symbol</th>\n      <th>exdate</th>\n      <th>cp_flag</th>\n      <th>strike_price</th>\n      <th>best_bid</th>\n      <th>best_offer</th>\n      <th>exercise_style</th>\n      <th>tte</th>\n      <th>rf_join_date</th>\n      <th>DATE</th>\n      <th>FEDFUNDS</th>\n    </tr>\n  </thead>\n  <tbody>\n    <tr>\n      <th>0</th>\n      <td>2015-01-02</td>\n      <td>AAPL 150102C100000</td>\n      <td>2015-01-02</td>\n      <td>C</td>\n      <td>100000</td>\n      <td>9.20</td>\n      <td>9.35</td>\n      <td>A</td>\n      <td>0 days</td>\n      <td>2015-01-01</td>\n      <td>2015-01-01</td>\n      <td>0.11</td>\n    </tr>\n    <tr>\n      <th>1</th>\n      <td>2015-01-02</td>\n      <td>AAPL 150102C101000</td>\n      <td>2015-01-02</td>\n      <td>C</td>\n      <td>101000</td>\n      <td>8.20</td>\n      <td>8.40</td>\n      <td>A</td>\n      <td>0 days</td>\n      <td>2015-01-01</td>\n      <td>2015-01-01</td>\n      <td>0.11</td>\n    </tr>\n    <tr>\n      <th>2</th>\n      <td>2015-01-02</td>\n      <td>AAPL 150102C102000</td>\n      <td>2015-01-02</td>\n      <td>C</td>\n      <td>102000</td>\n      <td>7.25</td>\n      <td>7.35</td>\n      <td>A</td>\n      <td>0 days</td>\n      <td>2015-01-01</td>\n      <td>2015-01-01</td>\n      <td>0.11</td>\n    </tr>\n    <tr>\n      <th>3</th>\n      <td>2015-01-02</td>\n      <td>AAPL 150102C103000</td>\n      <td>2015-01-02</td>\n      <td>C</td>\n      <td>103000</td>\n      <td>6.20</td>\n      <td>6.40</td>\n      <td>A</td>\n      <td>0 days</td>\n      <td>2015-01-01</td>\n      <td>2015-01-01</td>\n      <td>0.11</td>\n    </tr>\n    <tr>\n      <th>4</th>\n      <td>2015-01-02</td>\n      <td>AAPL 150102C104000</td>\n      <td>2015-01-02</td>\n      <td>C</td>\n      <td>104000</td>\n      <td>5.25</td>\n      <td>5.35</td>\n      <td>A</td>\n      <td>0 days</td>\n      <td>2015-01-01</td>\n      <td>2015-01-01</td>\n      <td>0.11</td>\n    </tr>\n  </tbody>\n</table>\n</div>"
     },
     "execution_count": 60,
     "metadata": {},
     "output_type": "execute_result"
    }
   ],
   "source": [
    "am_df = am_df[[\"date\", \"symbol\", \"exdate\", \"cp_flag\", \"strike_price\", \"best_bid\", \"best_offer\", \"exercise_style\"]]\n",
    "am_df[\"date\"] = pd.to_datetime(am_df[\"date\"], format=\"%Y%m%d\")\n",
    "am_df[\"exdate\"] = pd.to_datetime(am_df[\"exdate\"], format=\"%Y%m%d\")\n",
    "am_df[\"tte\"] = am_df[\"exdate\"] - am_df[\"date\"]\n",
    "am_df[\"rf_join_date\"] = pd.to_datetime(am_df[\"date\"].apply(lambda x: datetime.date(x.year, x.month, 1)))\n",
    "am_df = pd.merge(am_df, rf_df, left_on=\"rf_join_date\", right_on=\"DATE\")\n",
    "am_df.head()"
   ],
   "metadata": {
    "collapsed": false
   }
  },
  {
   "cell_type": "code",
   "execution_count": 61,
   "outputs": [
    {
     "data": {
      "text/plain": "        date              symbol     exdate cp_flag  strike_price  best_bid  \\\n0 2015-01-02  NDX 150109C3100000 2015-01-09       C       3100000    1124.9   \n1 2015-01-02  NDX 150109C3125000 2015-01-09       C       3125000    1099.9   \n2 2015-01-02  NDX 150109C3150000 2015-01-09       C       3150000    1074.9   \n3 2015-01-02  NDX 150109C3175000 2015-01-09       C       3175000    1049.9   \n4 2015-01-02  NDX 150109C3200000 2015-01-09       C       3200000    1024.9   \n\n   best_offer exercise_style    tte rf_join_date       DATE  FEDFUNDS  \n0      1134.0              E 7 days   2015-01-01 2015-01-01      0.11  \n1      1109.0              E 7 days   2015-01-01 2015-01-01      0.11  \n2      1084.0              E 7 days   2015-01-01 2015-01-01      0.11  \n3      1059.0              E 7 days   2015-01-01 2015-01-01      0.11  \n4      1034.0              E 7 days   2015-01-01 2015-01-01      0.11  ",
      "text/html": "<div>\n<style scoped>\n    .dataframe tbody tr th:only-of-type {\n        vertical-align: middle;\n    }\n\n    .dataframe tbody tr th {\n        vertical-align: top;\n    }\n\n    .dataframe thead th {\n        text-align: right;\n    }\n</style>\n<table border=\"1\" class=\"dataframe\">\n  <thead>\n    <tr style=\"text-align: right;\">\n      <th></th>\n      <th>date</th>\n      <th>symbol</th>\n      <th>exdate</th>\n      <th>cp_flag</th>\n      <th>strike_price</th>\n      <th>best_bid</th>\n      <th>best_offer</th>\n      <th>exercise_style</th>\n      <th>tte</th>\n      <th>rf_join_date</th>\n      <th>DATE</th>\n      <th>FEDFUNDS</th>\n    </tr>\n  </thead>\n  <tbody>\n    <tr>\n      <th>0</th>\n      <td>2015-01-02</td>\n      <td>NDX 150109C3100000</td>\n      <td>2015-01-09</td>\n      <td>C</td>\n      <td>3100000</td>\n      <td>1124.9</td>\n      <td>1134.0</td>\n      <td>E</td>\n      <td>7 days</td>\n      <td>2015-01-01</td>\n      <td>2015-01-01</td>\n      <td>0.11</td>\n    </tr>\n    <tr>\n      <th>1</th>\n      <td>2015-01-02</td>\n      <td>NDX 150109C3125000</td>\n      <td>2015-01-09</td>\n      <td>C</td>\n      <td>3125000</td>\n      <td>1099.9</td>\n      <td>1109.0</td>\n      <td>E</td>\n      <td>7 days</td>\n      <td>2015-01-01</td>\n      <td>2015-01-01</td>\n      <td>0.11</td>\n    </tr>\n    <tr>\n      <th>2</th>\n      <td>2015-01-02</td>\n      <td>NDX 150109C3150000</td>\n      <td>2015-01-09</td>\n      <td>C</td>\n      <td>3150000</td>\n      <td>1074.9</td>\n      <td>1084.0</td>\n      <td>E</td>\n      <td>7 days</td>\n      <td>2015-01-01</td>\n      <td>2015-01-01</td>\n      <td>0.11</td>\n    </tr>\n    <tr>\n      <th>3</th>\n      <td>2015-01-02</td>\n      <td>NDX 150109C3175000</td>\n      <td>2015-01-09</td>\n      <td>C</td>\n      <td>3175000</td>\n      <td>1049.9</td>\n      <td>1059.0</td>\n      <td>E</td>\n      <td>7 days</td>\n      <td>2015-01-01</td>\n      <td>2015-01-01</td>\n      <td>0.11</td>\n    </tr>\n    <tr>\n      <th>4</th>\n      <td>2015-01-02</td>\n      <td>NDX 150109C3200000</td>\n      <td>2015-01-09</td>\n      <td>C</td>\n      <td>3200000</td>\n      <td>1024.9</td>\n      <td>1034.0</td>\n      <td>E</td>\n      <td>7 days</td>\n      <td>2015-01-01</td>\n      <td>2015-01-01</td>\n      <td>0.11</td>\n    </tr>\n  </tbody>\n</table>\n</div>"
     },
     "execution_count": 61,
     "metadata": {},
     "output_type": "execute_result"
    }
   ],
   "source": [
    "eu_df = eu_df[[\"date\", \"symbol\", \"exdate\", \"cp_flag\", \"strike_price\", \"best_bid\", \"best_offer\", \"exercise_style\"]]\n",
    "eu_df[\"date\"] = pd.to_datetime(eu_df[\"date\"], format=\"%Y%m%d\")\n",
    "eu_df[\"exdate\"] = pd.to_datetime(eu_df[\"exdate\"], format=\"%Y%m%d\")\n",
    "eu_df[\"tte\"] = eu_df[\"exdate\"] - eu_df[\"date\"]\n",
    "eu_df[\"rf_join_date\"] = pd.to_datetime(eu_df[\"date\"].apply(lambda x: datetime.date(x.year, x.month, 1)))\n",
    "eu_df = pd.merge(eu_df, rf_df, left_on=\"rf_join_date\", right_on=\"DATE\")\n",
    "eu_df.head()"
   ],
   "metadata": {
    "collapsed": false
   }
  },
  {
   "cell_type": "code",
   "execution_count": null,
   "outputs": [],
   "source": [
    "def simple_european_binomial_model(dt, n_steps, underlying_price, strike, tte, call=True):\n",
    "    return\n"
   ],
   "metadata": {
    "collapsed": false
   }
  },
  {
   "cell_type": "code",
   "execution_count": null,
   "outputs": [],
   "source": [],
   "metadata": {
    "collapsed": false
   }
  }
 ],
 "metadata": {
  "kernelspec": {
   "display_name": "Python 3",
   "language": "python",
   "name": "python3"
  },
  "language_info": {
   "codemirror_mode": {
    "name": "ipython",
    "version": 3
   },
   "file_extension": ".py",
   "mimetype": "text/x-python",
   "name": "python",
   "nbconvert_exporter": "python",
   "pygments_lexer": "ipython3",
   "version": "3.8.8"
  }
 },
 "nbformat": 4,
 "nbformat_minor": 5
}
