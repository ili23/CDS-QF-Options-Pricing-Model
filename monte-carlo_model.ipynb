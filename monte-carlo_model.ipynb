{
 "cells": [
  {
   "cell_type": "code",
   "execution_count": 1,
   "metadata": {
    "collapsed": true
   },
   "outputs": [],
   "source": [
    "import pandas as pd\n",
    "import numpy as np\n",
    "import matplotlib.pyplot as plt\n",
    "import datetime\n",
    "import math"
   ]
  },
  {
   "cell_type": "code",
   "execution_count": 2,
   "outputs": [],
   "source": [
    "#load datasets\n",
    "am_df = pd.read_csv(\"data/american_stock.csv\")\n",
    "eu_df = pd.read_csv(\"data/european_index.csv\")\n",
    "rf_df = pd.read_csv(\"data/FEDFUNDS.csv\")\n",
    "stock_price_df = pd.read_csv(\"data/stock_prices.csv\")"
   ],
   "metadata": {
    "collapsed": false
   }
  },
  {
   "cell_type": "code",
   "execution_count": 4,
   "outputs": [
    {
     "data": {
      "text/plain": "        DATE  FEDFUNDS\n0 2013-02-01      0.15\n1 2013-03-01      0.14\n2 2013-04-01      0.15\n3 2013-05-01      0.11\n4 2013-06-01      0.09",
      "text/html": "<div>\n<style scoped>\n    .dataframe tbody tr th:only-of-type {\n        vertical-align: middle;\n    }\n\n    .dataframe tbody tr th {\n        vertical-align: top;\n    }\n\n    .dataframe thead th {\n        text-align: right;\n    }\n</style>\n<table border=\"1\" class=\"dataframe\">\n  <thead>\n    <tr style=\"text-align: right;\">\n      <th></th>\n      <th>DATE</th>\n      <th>FEDFUNDS</th>\n    </tr>\n  </thead>\n  <tbody>\n    <tr>\n      <th>0</th>\n      <td>2013-02-01</td>\n      <td>0.15</td>\n    </tr>\n    <tr>\n      <th>1</th>\n      <td>2013-03-01</td>\n      <td>0.14</td>\n    </tr>\n    <tr>\n      <th>2</th>\n      <td>2013-04-01</td>\n      <td>0.15</td>\n    </tr>\n    <tr>\n      <th>3</th>\n      <td>2013-05-01</td>\n      <td>0.11</td>\n    </tr>\n    <tr>\n      <th>4</th>\n      <td>2013-06-01</td>\n      <td>0.09</td>\n    </tr>\n  </tbody>\n</table>\n</div>"
     },
     "execution_count": 4,
     "metadata": {},
     "output_type": "execute_result"
    }
   ],
   "source": [
    "rf_df[\"DATE\"] = pd.to_datetime(rf_df[\"DATE\"], format=\"%Y-%m-%d\")\n",
    "rf_df.head()"
   ],
   "metadata": {
    "collapsed": false
   }
  },
  {
   "cell_type": "code",
   "execution_count": 5,
   "outputs": [
    {
     "name": "stderr",
     "output_type": "stream",
     "text": [
      "/var/folders/77/q3gt76rs7s9dtwfn9frfxdfm0000gn/T/ipykernel_69197/1634286520.py:2: SettingWithCopyWarning: \n",
      "A value is trying to be set on a copy of a slice from a DataFrame.\n",
      "Try using .loc[row_indexer,col_indexer] = value instead\n",
      "\n",
      "See the caveats in the documentation: https://pandas.pydata.org/pandas-docs/stable/user_guide/indexing.html#returning-a-view-versus-a-copy\n",
      "  am_df[\"date\"] = pd.to_datetime(am_df[\"date\"], format=\"%Y%m%d\")\n",
      "/var/folders/77/q3gt76rs7s9dtwfn9frfxdfm0000gn/T/ipykernel_69197/1634286520.py:3: SettingWithCopyWarning: \n",
      "A value is trying to be set on a copy of a slice from a DataFrame.\n",
      "Try using .loc[row_indexer,col_indexer] = value instead\n",
      "\n",
      "See the caveats in the documentation: https://pandas.pydata.org/pandas-docs/stable/user_guide/indexing.html#returning-a-view-versus-a-copy\n",
      "  am_df[\"exdate\"] = pd.to_datetime(am_df[\"exdate\"], format=\"%Y%m%d\")\n",
      "/var/folders/77/q3gt76rs7s9dtwfn9frfxdfm0000gn/T/ipykernel_69197/1634286520.py:4: SettingWithCopyWarning: \n",
      "A value is trying to be set on a copy of a slice from a DataFrame.\n",
      "Try using .loc[row_indexer,col_indexer] = value instead\n",
      "\n",
      "See the caveats in the documentation: https://pandas.pydata.org/pandas-docs/stable/user_guide/indexing.html#returning-a-view-versus-a-copy\n",
      "  am_df[\"tte\"] = am_df[\"exdate\"] - am_df[\"date\"]\n"
     ]
    },
    {
     "data": {
      "text/plain": "        date              symbol     exdate cp_flag  strike_price  best_bid  \\\n0 2015-01-02  AAPL 150102C100000 2015-01-02       C        100000      9.20   \n1 2015-01-02  AAPL 150102C101000 2015-01-02       C        101000      8.20   \n2 2015-01-02  AAPL 150102C102000 2015-01-02       C        102000      7.25   \n3 2015-01-02  AAPL 150102C103000 2015-01-02       C        103000      6.20   \n4 2015-01-02  AAPL 150102C104000 2015-01-02       C        104000      5.25   \n\n   best_offer exercise_style    tte rf_join_date       DATE  FEDFUNDS  \n0        9.35              A 0 days   2015-01-01 2015-01-01      0.11  \n1        8.40              A 0 days   2015-01-01 2015-01-01      0.11  \n2        7.35              A 0 days   2015-01-01 2015-01-01      0.11  \n3        6.40              A 0 days   2015-01-01 2015-01-01      0.11  \n4        5.35              A 0 days   2015-01-01 2015-01-01      0.11  ",
      "text/html": "<div>\n<style scoped>\n    .dataframe tbody tr th:only-of-type {\n        vertical-align: middle;\n    }\n\n    .dataframe tbody tr th {\n        vertical-align: top;\n    }\n\n    .dataframe thead th {\n        text-align: right;\n    }\n</style>\n<table border=\"1\" class=\"dataframe\">\n  <thead>\n    <tr style=\"text-align: right;\">\n      <th></th>\n      <th>date</th>\n      <th>symbol</th>\n      <th>exdate</th>\n      <th>cp_flag</th>\n      <th>strike_price</th>\n      <th>best_bid</th>\n      <th>best_offer</th>\n      <th>exercise_style</th>\n      <th>tte</th>\n      <th>rf_join_date</th>\n      <th>DATE</th>\n      <th>FEDFUNDS</th>\n    </tr>\n  </thead>\n  <tbody>\n    <tr>\n      <th>0</th>\n      <td>2015-01-02</td>\n      <td>AAPL 150102C100000</td>\n      <td>2015-01-02</td>\n      <td>C</td>\n      <td>100000</td>\n      <td>9.20</td>\n      <td>9.35</td>\n      <td>A</td>\n      <td>0 days</td>\n      <td>2015-01-01</td>\n      <td>2015-01-01</td>\n      <td>0.11</td>\n    </tr>\n    <tr>\n      <th>1</th>\n      <td>2015-01-02</td>\n      <td>AAPL 150102C101000</td>\n      <td>2015-01-02</td>\n      <td>C</td>\n      <td>101000</td>\n      <td>8.20</td>\n      <td>8.40</td>\n      <td>A</td>\n      <td>0 days</td>\n      <td>2015-01-01</td>\n      <td>2015-01-01</td>\n      <td>0.11</td>\n    </tr>\n    <tr>\n      <th>2</th>\n      <td>2015-01-02</td>\n      <td>AAPL 150102C102000</td>\n      <td>2015-01-02</td>\n      <td>C</td>\n      <td>102000</td>\n      <td>7.25</td>\n      <td>7.35</td>\n      <td>A</td>\n      <td>0 days</td>\n      <td>2015-01-01</td>\n      <td>2015-01-01</td>\n      <td>0.11</td>\n    </tr>\n    <tr>\n      <th>3</th>\n      <td>2015-01-02</td>\n      <td>AAPL 150102C103000</td>\n      <td>2015-01-02</td>\n      <td>C</td>\n      <td>103000</td>\n      <td>6.20</td>\n      <td>6.40</td>\n      <td>A</td>\n      <td>0 days</td>\n      <td>2015-01-01</td>\n      <td>2015-01-01</td>\n      <td>0.11</td>\n    </tr>\n    <tr>\n      <th>4</th>\n      <td>2015-01-02</td>\n      <td>AAPL 150102C104000</td>\n      <td>2015-01-02</td>\n      <td>C</td>\n      <td>104000</td>\n      <td>5.25</td>\n      <td>5.35</td>\n      <td>A</td>\n      <td>0 days</td>\n      <td>2015-01-01</td>\n      <td>2015-01-01</td>\n      <td>0.11</td>\n    </tr>\n  </tbody>\n</table>\n</div>"
     },
     "execution_count": 5,
     "metadata": {},
     "output_type": "execute_result"
    }
   ],
   "source": [
    "am_df = am_df[[\"date\", \"symbol\", \"exdate\", \"cp_flag\", \"strike_price\", \"best_bid\", \"best_offer\", \"exercise_style\"]]\n",
    "am_df[\"date\"] = pd.to_datetime(am_df[\"date\"], format=\"%Y%m%d\")\n",
    "am_df[\"exdate\"] = pd.to_datetime(am_df[\"exdate\"], format=\"%Y%m%d\")\n",
    "am_df[\"tte\"] = am_df[\"exdate\"] - am_df[\"date\"]\n",
    "am_df[\"rf_join_date\"] = pd.to_datetime(am_df[\"date\"].apply(lambda x: datetime.date(x.year, x.month, 1)))\n",
    "am_df = pd.merge(am_df, rf_df, left_on=\"rf_join_date\", right_on=\"DATE\")\n",
    "am_df.head()"
   ],
   "metadata": {
    "collapsed": false
   }
  },
  {
   "cell_type": "code",
   "execution_count": 6,
   "outputs": [
    {
     "data": {
      "text/plain": "        date              symbol     exdate cp_flag  strike_price  best_bid  \\\n0 2015-01-02  NDX 150109C3100000 2015-01-09       C       3100000    1124.9   \n1 2015-01-02  NDX 150109C3125000 2015-01-09       C       3125000    1099.9   \n2 2015-01-02  NDX 150109C3150000 2015-01-09       C       3150000    1074.9   \n3 2015-01-02  NDX 150109C3175000 2015-01-09       C       3175000    1049.9   \n4 2015-01-02  NDX 150109C3200000 2015-01-09       C       3200000    1024.9   \n\n   best_offer exercise_style    tte rf_join_date       DATE  FEDFUNDS  \n0      1134.0              E 7 days   2015-01-01 2015-01-01      0.11  \n1      1109.0              E 7 days   2015-01-01 2015-01-01      0.11  \n2      1084.0              E 7 days   2015-01-01 2015-01-01      0.11  \n3      1059.0              E 7 days   2015-01-01 2015-01-01      0.11  \n4      1034.0              E 7 days   2015-01-01 2015-01-01      0.11  ",
      "text/html": "<div>\n<style scoped>\n    .dataframe tbody tr th:only-of-type {\n        vertical-align: middle;\n    }\n\n    .dataframe tbody tr th {\n        vertical-align: top;\n    }\n\n    .dataframe thead th {\n        text-align: right;\n    }\n</style>\n<table border=\"1\" class=\"dataframe\">\n  <thead>\n    <tr style=\"text-align: right;\">\n      <th></th>\n      <th>date</th>\n      <th>symbol</th>\n      <th>exdate</th>\n      <th>cp_flag</th>\n      <th>strike_price</th>\n      <th>best_bid</th>\n      <th>best_offer</th>\n      <th>exercise_style</th>\n      <th>tte</th>\n      <th>rf_join_date</th>\n      <th>DATE</th>\n      <th>FEDFUNDS</th>\n    </tr>\n  </thead>\n  <tbody>\n    <tr>\n      <th>0</th>\n      <td>2015-01-02</td>\n      <td>NDX 150109C3100000</td>\n      <td>2015-01-09</td>\n      <td>C</td>\n      <td>3100000</td>\n      <td>1124.9</td>\n      <td>1134.0</td>\n      <td>E</td>\n      <td>7 days</td>\n      <td>2015-01-01</td>\n      <td>2015-01-01</td>\n      <td>0.11</td>\n    </tr>\n    <tr>\n      <th>1</th>\n      <td>2015-01-02</td>\n      <td>NDX 150109C3125000</td>\n      <td>2015-01-09</td>\n      <td>C</td>\n      <td>3125000</td>\n      <td>1099.9</td>\n      <td>1109.0</td>\n      <td>E</td>\n      <td>7 days</td>\n      <td>2015-01-01</td>\n      <td>2015-01-01</td>\n      <td>0.11</td>\n    </tr>\n    <tr>\n      <th>2</th>\n      <td>2015-01-02</td>\n      <td>NDX 150109C3150000</td>\n      <td>2015-01-09</td>\n      <td>C</td>\n      <td>3150000</td>\n      <td>1074.9</td>\n      <td>1084.0</td>\n      <td>E</td>\n      <td>7 days</td>\n      <td>2015-01-01</td>\n      <td>2015-01-01</td>\n      <td>0.11</td>\n    </tr>\n    <tr>\n      <th>3</th>\n      <td>2015-01-02</td>\n      <td>NDX 150109C3175000</td>\n      <td>2015-01-09</td>\n      <td>C</td>\n      <td>3175000</td>\n      <td>1049.9</td>\n      <td>1059.0</td>\n      <td>E</td>\n      <td>7 days</td>\n      <td>2015-01-01</td>\n      <td>2015-01-01</td>\n      <td>0.11</td>\n    </tr>\n    <tr>\n      <th>4</th>\n      <td>2015-01-02</td>\n      <td>NDX 150109C3200000</td>\n      <td>2015-01-09</td>\n      <td>C</td>\n      <td>3200000</td>\n      <td>1024.9</td>\n      <td>1034.0</td>\n      <td>E</td>\n      <td>7 days</td>\n      <td>2015-01-01</td>\n      <td>2015-01-01</td>\n      <td>0.11</td>\n    </tr>\n  </tbody>\n</table>\n</div>"
     },
     "execution_count": 6,
     "metadata": {},
     "output_type": "execute_result"
    }
   ],
   "source": [
    "eu_df = eu_df[[\"date\", \"symbol\", \"exdate\", \"cp_flag\", \"strike_price\", \"best_bid\", \"best_offer\", \"exercise_style\"]]\n",
    "eu_df[\"date\"] = pd.to_datetime(eu_df[\"date\"], format=\"%Y%m%d\")\n",
    "eu_df[\"exdate\"] = pd.to_datetime(eu_df[\"exdate\"], format=\"%Y%m%d\")\n",
    "eu_df[\"tte\"] = eu_df[\"exdate\"] - eu_df[\"date\"]\n",
    "eu_df[\"rf_join_date\"] = pd.to_datetime(eu_df[\"date\"].apply(lambda x: datetime.date(x.year, x.month, 1)))\n",
    "eu_df = pd.merge(eu_df, rf_df, left_on=\"rf_join_date\", right_on=\"DATE\")\n",
    "eu_df.head()"
   ],
   "metadata": {
    "collapsed": false
   }
  },
  {
   "cell_type": "code",
   "execution_count": 11,
   "outputs": [
    {
     "data": {
      "text/plain": "      GVKEY LINKPRIM  LIID LINKTYPE  LPERMNO  LPERMCO    LINKDT LINKENDDT  \\\n0      1690        P     1       LU    14593        7  19801212         E   \n1      1690        P     1       LU    14593        7  19801212         E   \n2      1690        P     1       LU    14593        7  19801212         E   \n3      1690        P     1       LU    14593        7  19801212         E   \n4      1690        P     1       LU    14593        7  19801212         E   \n...     ...      ...   ...      ...      ...      ...       ...       ...   \n3314   1690        P     1       LU    14593        7  19801212         E   \n3315   1690        P     1       LU    14593        7  19801212         E   \n3316   1690        P     1       LU    14593        7  19801212         E   \n3317   1690        P     1       LU    14593        7  19801212         E   \n3318   1690        P     1       LU    14593        7  19801212         E   \n\n      iid  datadate  ...   dvi   eps epsmo   prccd     prchd     prcld  \\\n0       1  20100104  ...  0.00  6.39     9  214.01  214.5000  212.3800   \n1       1  20100105  ...  0.00  6.39     9  214.38  215.5900  213.2500   \n2       1  20100106  ...  0.00  6.39     9  210.97  215.2300  210.7500   \n3       1  20100107  ...  0.00  6.39     9  210.58  212.0000  209.0500   \n4       1  20100108  ...  0.00  6.39     9  211.98  212.0000  209.0600   \n...   ...       ...  ...   ...   ...   ...     ...       ...       ...   \n3314    1  20230306  ...  0.92  5.93    12  153.83  156.3000  153.4600   \n3315    1  20230307  ...  0.92  5.93    12  151.60  154.0299  151.1300   \n3316    1  20230308  ...  0.92  5.93    12  152.87  153.4700  151.8300   \n3317    1  20230309  ...  0.92  5.93    12  150.59  154.5350  150.2250   \n3318    1  20230310  ...  0.92  5.93    12  148.50  150.9400  147.6096   \n\n        prcod  prcstd      trfd  ccmbegdt  \n0     213.430       3  1.095663  20090201  \n1     214.600       3  1.095663  20090201  \n2     214.380       3  1.095663  20090201  \n3     211.750       3  1.095663  20090201  \n4     210.300       3  1.095663  20090201  \n...       ...     ...       ...       ...  \n3314  153.785       3  1.287473  20220401  \n3315  153.700       3  1.287473  20220401  \n3316  152.810       3  1.287473  20220401  \n3317  153.559       3  1.287473  20220401  \n3318  150.210       3  1.287473  20220401  \n\n[3319 rows x 43 columns]",
      "text/html": "<div>\n<style scoped>\n    .dataframe tbody tr th:only-of-type {\n        vertical-align: middle;\n    }\n\n    .dataframe tbody tr th {\n        vertical-align: top;\n    }\n\n    .dataframe thead th {\n        text-align: right;\n    }\n</style>\n<table border=\"1\" class=\"dataframe\">\n  <thead>\n    <tr style=\"text-align: right;\">\n      <th></th>\n      <th>GVKEY</th>\n      <th>LINKPRIM</th>\n      <th>LIID</th>\n      <th>LINKTYPE</th>\n      <th>LPERMNO</th>\n      <th>LPERMCO</th>\n      <th>LINKDT</th>\n      <th>LINKENDDT</th>\n      <th>iid</th>\n      <th>datadate</th>\n      <th>...</th>\n      <th>dvi</th>\n      <th>eps</th>\n      <th>epsmo</th>\n      <th>prccd</th>\n      <th>prchd</th>\n      <th>prcld</th>\n      <th>prcod</th>\n      <th>prcstd</th>\n      <th>trfd</th>\n      <th>ccmbegdt</th>\n    </tr>\n  </thead>\n  <tbody>\n    <tr>\n      <th>0</th>\n      <td>1690</td>\n      <td>P</td>\n      <td>1</td>\n      <td>LU</td>\n      <td>14593</td>\n      <td>7</td>\n      <td>19801212</td>\n      <td>E</td>\n      <td>1</td>\n      <td>20100104</td>\n      <td>...</td>\n      <td>0.00</td>\n      <td>6.39</td>\n      <td>9</td>\n      <td>214.01</td>\n      <td>214.5000</td>\n      <td>212.3800</td>\n      <td>213.430</td>\n      <td>3</td>\n      <td>1.095663</td>\n      <td>20090201</td>\n    </tr>\n    <tr>\n      <th>1</th>\n      <td>1690</td>\n      <td>P</td>\n      <td>1</td>\n      <td>LU</td>\n      <td>14593</td>\n      <td>7</td>\n      <td>19801212</td>\n      <td>E</td>\n      <td>1</td>\n      <td>20100105</td>\n      <td>...</td>\n      <td>0.00</td>\n      <td>6.39</td>\n      <td>9</td>\n      <td>214.38</td>\n      <td>215.5900</td>\n      <td>213.2500</td>\n      <td>214.600</td>\n      <td>3</td>\n      <td>1.095663</td>\n      <td>20090201</td>\n    </tr>\n    <tr>\n      <th>2</th>\n      <td>1690</td>\n      <td>P</td>\n      <td>1</td>\n      <td>LU</td>\n      <td>14593</td>\n      <td>7</td>\n      <td>19801212</td>\n      <td>E</td>\n      <td>1</td>\n      <td>20100106</td>\n      <td>...</td>\n      <td>0.00</td>\n      <td>6.39</td>\n      <td>9</td>\n      <td>210.97</td>\n      <td>215.2300</td>\n      <td>210.7500</td>\n      <td>214.380</td>\n      <td>3</td>\n      <td>1.095663</td>\n      <td>20090201</td>\n    </tr>\n    <tr>\n      <th>3</th>\n      <td>1690</td>\n      <td>P</td>\n      <td>1</td>\n      <td>LU</td>\n      <td>14593</td>\n      <td>7</td>\n      <td>19801212</td>\n      <td>E</td>\n      <td>1</td>\n      <td>20100107</td>\n      <td>...</td>\n      <td>0.00</td>\n      <td>6.39</td>\n      <td>9</td>\n      <td>210.58</td>\n      <td>212.0000</td>\n      <td>209.0500</td>\n      <td>211.750</td>\n      <td>3</td>\n      <td>1.095663</td>\n      <td>20090201</td>\n    </tr>\n    <tr>\n      <th>4</th>\n      <td>1690</td>\n      <td>P</td>\n      <td>1</td>\n      <td>LU</td>\n      <td>14593</td>\n      <td>7</td>\n      <td>19801212</td>\n      <td>E</td>\n      <td>1</td>\n      <td>20100108</td>\n      <td>...</td>\n      <td>0.00</td>\n      <td>6.39</td>\n      <td>9</td>\n      <td>211.98</td>\n      <td>212.0000</td>\n      <td>209.0600</td>\n      <td>210.300</td>\n      <td>3</td>\n      <td>1.095663</td>\n      <td>20090201</td>\n    </tr>\n    <tr>\n      <th>...</th>\n      <td>...</td>\n      <td>...</td>\n      <td>...</td>\n      <td>...</td>\n      <td>...</td>\n      <td>...</td>\n      <td>...</td>\n      <td>...</td>\n      <td>...</td>\n      <td>...</td>\n      <td>...</td>\n      <td>...</td>\n      <td>...</td>\n      <td>...</td>\n      <td>...</td>\n      <td>...</td>\n      <td>...</td>\n      <td>...</td>\n      <td>...</td>\n      <td>...</td>\n      <td>...</td>\n    </tr>\n    <tr>\n      <th>3314</th>\n      <td>1690</td>\n      <td>P</td>\n      <td>1</td>\n      <td>LU</td>\n      <td>14593</td>\n      <td>7</td>\n      <td>19801212</td>\n      <td>E</td>\n      <td>1</td>\n      <td>20230306</td>\n      <td>...</td>\n      <td>0.92</td>\n      <td>5.93</td>\n      <td>12</td>\n      <td>153.83</td>\n      <td>156.3000</td>\n      <td>153.4600</td>\n      <td>153.785</td>\n      <td>3</td>\n      <td>1.287473</td>\n      <td>20220401</td>\n    </tr>\n    <tr>\n      <th>3315</th>\n      <td>1690</td>\n      <td>P</td>\n      <td>1</td>\n      <td>LU</td>\n      <td>14593</td>\n      <td>7</td>\n      <td>19801212</td>\n      <td>E</td>\n      <td>1</td>\n      <td>20230307</td>\n      <td>...</td>\n      <td>0.92</td>\n      <td>5.93</td>\n      <td>12</td>\n      <td>151.60</td>\n      <td>154.0299</td>\n      <td>151.1300</td>\n      <td>153.700</td>\n      <td>3</td>\n      <td>1.287473</td>\n      <td>20220401</td>\n    </tr>\n    <tr>\n      <th>3316</th>\n      <td>1690</td>\n      <td>P</td>\n      <td>1</td>\n      <td>LU</td>\n      <td>14593</td>\n      <td>7</td>\n      <td>19801212</td>\n      <td>E</td>\n      <td>1</td>\n      <td>20230308</td>\n      <td>...</td>\n      <td>0.92</td>\n      <td>5.93</td>\n      <td>12</td>\n      <td>152.87</td>\n      <td>153.4700</td>\n      <td>151.8300</td>\n      <td>152.810</td>\n      <td>3</td>\n      <td>1.287473</td>\n      <td>20220401</td>\n    </tr>\n    <tr>\n      <th>3317</th>\n      <td>1690</td>\n      <td>P</td>\n      <td>1</td>\n      <td>LU</td>\n      <td>14593</td>\n      <td>7</td>\n      <td>19801212</td>\n      <td>E</td>\n      <td>1</td>\n      <td>20230309</td>\n      <td>...</td>\n      <td>0.92</td>\n      <td>5.93</td>\n      <td>12</td>\n      <td>150.59</td>\n      <td>154.5350</td>\n      <td>150.2250</td>\n      <td>153.559</td>\n      <td>3</td>\n      <td>1.287473</td>\n      <td>20220401</td>\n    </tr>\n    <tr>\n      <th>3318</th>\n      <td>1690</td>\n      <td>P</td>\n      <td>1</td>\n      <td>LU</td>\n      <td>14593</td>\n      <td>7</td>\n      <td>19801212</td>\n      <td>E</td>\n      <td>1</td>\n      <td>20230310</td>\n      <td>...</td>\n      <td>0.92</td>\n      <td>5.93</td>\n      <td>12</td>\n      <td>148.50</td>\n      <td>150.9400</td>\n      <td>147.6096</td>\n      <td>150.210</td>\n      <td>3</td>\n      <td>1.287473</td>\n      <td>20220401</td>\n    </tr>\n  </tbody>\n</table>\n<p>3319 rows × 43 columns</p>\n</div>"
     },
     "execution_count": 11,
     "metadata": {},
     "output_type": "execute_result"
    }
   ],
   "source": [
    "stock_price_df[stock_price_df[\"tic\"] == \"AAPL\"]"
   ],
   "metadata": {
    "collapsed": false
   }
  },
  {
   "cell_type": "code",
   "execution_count": null,
   "outputs": [],
   "source": [
    "def monte_carlo(n_steps, underlying_price, strike, tte, int_rate, call=True):\n"
   ],
   "metadata": {
    "collapsed": false
   }
  }
 ],
 "metadata": {
  "kernelspec": {
   "display_name": "Python 3",
   "language": "python",
   "name": "python3"
  },
  "language_info": {
   "codemirror_mode": {
    "name": "ipython",
    "version": 2
   },
   "file_extension": ".py",
   "mimetype": "text/x-python",
   "name": "python",
   "nbconvert_exporter": "python",
   "pygments_lexer": "ipython2",
   "version": "2.7.6"
  }
 },
 "nbformat": 4,
 "nbformat_minor": 0
}
